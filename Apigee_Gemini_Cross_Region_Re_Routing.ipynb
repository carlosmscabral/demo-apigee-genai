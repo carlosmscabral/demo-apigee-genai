{
  "nbformat": 4,
  "nbformat_minor": 0,
  "metadata": {
    "colab": {
      "provenance": [],
      "authorship_tag": "ABX9TyOLieRf70xiH3UihjdbP8ip",
      "include_colab_link": true
    },
    "kernelspec": {
      "name": "python3",
      "display_name": "Python 3"
    },
    "language_info": {
      "name": "python"
    }
  },
  "cells": [
    {
      "cell_type": "markdown",
      "metadata": {
        "id": "view-in-github",
        "colab_type": "text"
      },
      "source": [
        "<a href=\"https://colab.research.google.com/github/carlosmscabral/demo-apigee-genai/blob/main/Apigee_Gemini_Cross_Region_Re_Routing.ipynb\" target=\"_parent\"><img src=\"https://colab.research.google.com/assets/colab-badge.svg\" alt=\"Open In Colab\"/></a>"
      ]
    },
    {
      "cell_type": "markdown",
      "source": [
        "# Apigee - Gemini Cross Region Re-Routing\n",
        "\n",
        "This sample client content generates a \"stress test\" towards Gemini in order to reach the per-region rate limit. But the code uses an Apigee API in front of the Gemini endpoints.\n",
        "\n",
        "Apigee will automatically detect and recover from Vertex/Gemini rate-limit errors and transparently re-route the calls to a backup region."
      ],
      "metadata": {
        "id": "la4iJNbF3_Le"
      }
    },
    {
      "cell_type": "code",
      "source": [
        "!gcloud auth application-default login\n",
        "!gcloud config set project cabral-apigee"
      ],
      "metadata": {
        "colab": {
          "base_uri": "https://localhost:8080/"
        },
        "id": "MU8pWlTz5rvt",
        "outputId": "e095b5ec-f648-4aba-f3b5-9d4fdf18974d"
      },
      "execution_count": 5,
      "outputs": [
        {
          "output_type": "stream",
          "name": "stdout",
          "text": [
            "Go to the following link in your browser, and complete the sign-in prompts:\n",
            "\n",
            "    https://accounts.google.com/o/oauth2/auth?response_type=code&client_id=764086051850-6qr4p6gpi6hn506pt8ejuq83di341hur.apps.googleusercontent.com&redirect_uri=https%3A%2F%2Fsdk.cloud.google.com%2Fapplicationdefaultauthcode.html&scope=openid+https%3A%2F%2Fwww.googleapis.com%2Fauth%2Fuserinfo.email+https%3A%2F%2Fwww.googleapis.com%2Fauth%2Fcloud-platform+https%3A%2F%2Fwww.googleapis.com%2Fauth%2Fsqlservice.login&state=csmPeddMsIvTEy4PSVtIgBtc5xeUDo&prompt=consent&token_usage=remote&access_type=offline&code_challenge=7W-gPQiL8DjPmFbdbg7XXXoeca3KQgA4TPyTcJUSKpg&code_challenge_method=S256\n",
            "\n",
            "Once finished, enter the verification code provided in your browser: 4/0AcvDMrAAbdQ7mlj1-9lXNRKQxMTLY9mg0cPwzHt7ks4kK_md2cvwsI0yrEYU3krVWXRqPQ\n",
            "\n",
            "Credentials saved to file: [/content/.config/application_default_credentials.json]\n",
            "\n",
            "These credentials will be used by any library that requests Application Default Credentials (ADC).\n",
            "\n",
            "Quota project \"cabral-apigee\" was added to ADC which can be used by Google client libraries for billing and quota. Note that some services may still bill the project owning the resource.\n",
            "\u001b[1;33mWARNING:\u001b[0m [carloscabral@google.com] does not have permission to access projects instance [cabral-apigee] (or it may not exist): The caller does not have permission. This command is authenticated as carloscabral@google.com which is the active account specified by the [core/account] property\n",
            "Are you sure you wish to set property [core/project] to cabral-apigee?\n",
            "\n",
            "Do you want to continue (Y/n)?  Y\n",
            "\n",
            "Updated property [core/project].\n"
          ]
        }
      ]
    },
    {
      "cell_type": "code",
      "source": [
        "import vertexai\n",
        "from vertexai.generative_models import GenerativeModel, GenerationConfig\n",
        "import time\n",
        "from multiprocessing import Pool\n",
        "from datetime import datetime\n",
        "\n",
        "\n",
        "def exec_gemini_call(iteration):\n",
        "    project_id = \"cabral-apigee\"\n",
        "    vertexai.init(project=project_id, api_endpoint=\"https://dev.35.227.240.213.nip.io/active-retry\", api_transport='rest')\n",
        "    model = GenerativeModel(\"gemini-1.5-pro-001\")\n",
        "    config = GenerationConfig(\n",
        "        max_output_tokens=100, temperature=0.4, top_p=1, top_k=32\n",
        "    )\n",
        "    model.generate_content(\n",
        "        f\"{iteration} - What's a good name for a flower shop that specializes in selling bouquets of dried flowers?\", generation_config=config\n",
        "    )\n",
        "\n",
        "def main():\n",
        "\n",
        "    iterations = range(100)\n",
        "\n",
        "    start_time = time.time()\n",
        "    print(f\" Start time: {datetime.fromtimestamp(start_time).strftime('%Y-%m-%d %H:%M:%S')}\")\n",
        "\n",
        "    with Pool() as pool:\n",
        "        _ = pool.map(exec_gemini_call, iterations)\n",
        "\n",
        "    end_time = time.time()\n",
        "    print(f\" End time: {datetime.fromtimestamp(end_time).strftime('%Y-%m-%d %H:%M:%S')}\")\n",
        "    print(f\"Total time elapsed: {end_time - start_time:.2f} seconds\")\n",
        "\n",
        "if __name__ == \"__main__\":\n",
        "    main()"
      ],
      "metadata": {
        "colab": {
          "base_uri": "https://localhost:8080/"
        },
        "id": "4KRjE97B4gO7",
        "outputId": "65519a44-f405-446b-b35a-18cc413fd5b7"
      },
      "execution_count": 6,
      "outputs": [
        {
          "output_type": "stream",
          "name": "stdout",
          "text": [
            " Start time: 2024-08-02 16:26:11\n",
            " End time: 2024-08-02 16:29:07\n",
            "Total time elapsed: 176.50 seconds\n"
          ]
        }
      ]
    }
  ]
}