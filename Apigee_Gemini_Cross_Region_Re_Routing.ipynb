{
  "nbformat": 4,
  "nbformat_minor": 0,
  "metadata": {
    "colab": {
      "provenance": [],
      "authorship_tag": "ABX9TyOLieRf70xiH3UihjdbP8ip",
      "include_colab_link": true
    },
    "kernelspec": {
      "name": "python3",
      "display_name": "Python 3"
    },
    "language_info": {
      "name": "python"
    }
  },
  "cells": [
    {
      "cell_type": "markdown",
      "metadata": {
        "id": "view-in-github",
        "colab_type": "text"
      },
      "source": [
        "<a href=\"https://colab.research.google.com/github/carlosmscabral/demo-apigee-genai/blob/main/Apigee_Gemini_Cross_Region_Re_Routing.ipynb\" target=\"_parent\"><img src=\"https://colab.research.google.com/assets/colab-badge.svg\" alt=\"Open In Colab\"/></a>"
      ]
    },
    {
      "cell_type": "markdown",
      "source": [
        "# Apigee - Gemini Cross Region Re-Routing\n",
        "\n",
        "This sample client content generates a \"stress test\" towards Gemini in order to reach the per-region rate limit. But the code uses an Apigee API in front of the Gemini endpoints.\n",
        "\n",
        "Apigee will automatically detect and recover from Vertex/Gemini rate-limit errors and transparently re-route the calls to a backup region."
      ],
      "metadata": {
        "id": "la4iJNbF3_Le"
      }
    },
    {
      "cell_type": "code",
      "source": [
        "!gcloud auth application-default login\n",
        "!gcloud config set project cabral-apigee"
      ],
      "metadata": {
        "id": "MU8pWlTz5rvt"
      },
      "execution_count": null,
      "outputs": []
    },
    {
      "cell_type": "code",
      "source": [
        "import vertexai\n",
        "from vertexai.generative_models import GenerativeModel, GenerationConfig\n",
        "import time\n",
        "from multiprocessing import Pool\n",
        "from datetime import datetime\n",
        "\n",
        "\n",
        "def exec_gemini_call(iteration):\n",
        "    project_id = \"cabral-apigee\"\n",
        "    vertexai.init(project=project_id, api_endpoint=\"https://dev.35.227.240.213.nip.io/active-retry\", api_transport='rest')\n",
        "    model = GenerativeModel(\"gemini-1.5-pro-001\")\n",
        "    config = GenerationConfig(\n",
        "        max_output_tokens=100, temperature=0.4, top_p=1, top_k=32\n",
        "    )\n",
        "    model.generate_content(\n",
        "        f\"{iteration} - What's a good name for a flower shop that specializes in selling bouquets of dried flowers?\", generation_config=config\n",
        "    )\n",
        "\n",
        "def main():\n",
        "\n",
        "    iterations = range(100)\n",
        "\n",
        "    start_time = time.time()\n",
        "    print(f\" Start time: {datetime.fromtimestamp(start_time).strftime('%Y-%m-%d %H:%M:%S')}\")\n",
        "\n",
        "    with Pool() as pool:\n",
        "        _ = pool.map(exec_gemini_call, iterations)\n",
        "\n",
        "    end_time = time.time()\n",
        "    print(f\" End time: {datetime.fromtimestamp(end_time).strftime('%Y-%m-%d %H:%M:%S')}\")\n",
        "    print(f\"Total time elapsed: {end_time - start_time:.2f} seconds\")\n",
        "\n",
        "if __name__ == \"__main__\":\n",
        "    main()"
      ],
      "metadata": {
        "id": "4KRjE97B4gO7"
      },
      "execution_count": null,
      "outputs": []
    }
  ]
}